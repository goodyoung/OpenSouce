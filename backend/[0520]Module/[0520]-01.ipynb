{
 "cells": [
  {
   "cell_type": "markdown",
   "id": "2e8be808-96b8-4252-970d-881703a7a373",
   "metadata": {
    "tags": []
   },
   "source": [
    "# 거리계산 모듈화"
   ]
  },
  {
   "cell_type": "code",
   "execution_count": 1,
   "id": "92fafd9d-980b-444e-b273-b92b5bef0240",
   "metadata": {
    "tags": []
   },
   "outputs": [],
   "source": [
    "import bike_distance_calc"
   ]
  },
  {
   "cell_type": "code",
   "execution_count": 2,
   "id": "bf5140c5-ac16-482c-b4fb-83cade3c397e",
   "metadata": {
    "tags": []
   },
   "outputs": [],
   "source": [
    "lat = 37.55564880\n",
    "long = 126.91062927"
   ]
  },
  {
   "cell_type": "code",
   "execution_count": 3,
   "id": "f2879391-151a-44e8-8d5a-5869bc8e0dda",
   "metadata": {
    "tags": []
   },
   "outputs": [],
   "source": [
    "f = bike_distance_calc.bike_distance(lat,long)"
   ]
  },
  {
   "cell_type": "code",
   "execution_count": 5,
   "id": "7dde9386-6675-4c7d-931b-fb9f7c5ee074",
   "metadata": {
    "tags": []
   },
   "outputs": [
    {
     "data": {
      "text/plain": [
       "[{'rackTotCnt': 15,\n",
       "  'stationName': '102. 망원역 1번출구 앞',\n",
       "  'parkingBikeTotCnt': 3,\n",
       "  'shared': 20,\n",
       "  'stationLatitude': 37.5556488,\n",
       "  'stationLongitude': 126.91062927,\n",
       "  'stationId': 'ST-4',\n",
       "  'distance': 0.0},\n",
       " {'rackTotCnt': 14,\n",
       "  'stationName': '103. 망원역 2번출구 앞',\n",
       "  'parkingBikeTotCnt': 1,\n",
       "  'shared': 7,\n",
       "  'stationLatitude': 37.55495071,\n",
       "  'stationLongitude': 126.91083527,\n",
       "  'stationId': 'ST-5',\n",
       "  'distance': 79.7199476062},\n",
       " {'rackTotCnt': 9,\n",
       "  'stationName': '184. 7번가피자 서교망원점',\n",
       "  'parkingBikeTotCnt': 1,\n",
       "  'shared': 11,\n",
       "  'stationLatitude': 37.55894852,\n",
       "  'stationLongitude': 126.90775299,\n",
       "  'stationId': 'ST-342',\n",
       "  'distance': 445.9914630036},\n",
       " {'rackTotCnt': 25,\n",
       "  'stationName': '497.합정동주민센터 앞',\n",
       "  'parkingBikeTotCnt': 20,\n",
       "  'shared': 80,\n",
       "  'stationLatitude': 37.551754,\n",
       "  'stationLongitude': 126.91230011,\n",
       "  'stationId': 'ST-2156',\n",
       "  'distance': 457.4439852306},\n",
       " {'rackTotCnt': 13,\n",
       "  'stationName': '104. 합정역 1번출구 앞',\n",
       "  'parkingBikeTotCnt': 17,\n",
       "  'shared': 131,\n",
       "  'stationLatitude': 37.55062866,\n",
       "  'stationLongitude': 126.91498566,\n",
       "  'stationId': 'ST-6',\n",
       "  'distance': 677.5587892535}]"
      ]
     },
     "execution_count": 5,
     "metadata": {},
     "output_type": "execute_result"
    }
   ],
   "source": [
    "f.result"
   ]
  },
  {
   "cell_type": "markdown",
   "id": "8c6d93b1-16cd-44dc-a252-29c2069673b6",
   "metadata": {},
   "source": [
    "# 주소 -> 위,경도 (kakao restapi)"
   ]
  },
  {
   "cell_type": "code",
   "execution_count": 6,
   "id": "aa88bd1d-b84d-464c-8532-9bed48136bf3",
   "metadata": {
    "tags": []
   },
   "outputs": [],
   "source": [
    "import requests\n",
    "import json"
   ]
  },
  {
   "cell_type": "code",
   "execution_count": 7,
   "id": "dc93676d-8bf5-4416-8f64-fd725ef534cf",
   "metadata": {
    "tags": []
   },
   "outputs": [],
   "source": [
    "address = '서울 중구 회현동1가'"
   ]
  },
  {
   "cell_type": "code",
   "execution_count": 9,
   "id": "4bbb07fe-9947-425d-a5a1-b6e4c48af50c",
   "metadata": {
    "tags": []
   },
   "outputs": [],
   "source": [
    "def changeAddress(address):\n",
    "    url = f'https://dapi.kakao.com/v2/local/search/address.json?query={address}'\n",
    "    headers = {\"Authorization\": \"KakaoAK ddade78155e5ff37aab8ddc00f07c0df\"} #kakao rest api key\n",
    "    address_json = requests.get(url, headers=headers).json()['documents'][0]\n",
    "    return address_json['x'],address_json['y']"
   ]
  },
  {
   "cell_type": "code",
   "execution_count": 10,
   "id": "f07773e4-0286-463a-9af5-73f2a71def2f",
   "metadata": {
    "tags": []
   },
   "outputs": [
    {
     "data": {
      "text/plain": [
       "('126.981204133005', '37.5555892070291')"
      ]
     },
     "execution_count": 10,
     "metadata": {},
     "output_type": "execute_result"
    }
   ],
   "source": [
    "changeAddress(address)"
   ]
  },
  {
   "cell_type": "markdown",
   "id": "979f5a68-16cd-4933-bb4e-cc261affab39",
   "metadata": {},
   "source": [
    "# 서울 공원 및 문화공간 데이터 수집 및 가공\n",
    "- https://data.seoul.go.kr/dataList/OA-15487/S/1/datasetView.do\n",
    "- https://data.seoul.go.kr/dataList/OA-394/S/1/datasetView.do"
   ]
  },
  {
   "cell_type": "code",
   "execution_count": 20,
   "id": "488e1c63-a7c0-4881-9d57-6ed0228704d0",
   "metadata": {
    "tags": []
   },
   "outputs": [],
   "source": [
    "import requests\n",
    "import pandas as pd"
   ]
  },
  {
   "cell_type": "code",
   "execution_count": 435,
   "id": "032bffda-3a6d-4ece-abbd-5cf4da81b5db",
   "metadata": {
    "tags": []
   },
   "outputs": [],
   "source": [
    "datas = ['SearchParkInfoService','culturalSpaceInfo']"
   ]
  },
  {
   "cell_type": "code",
   "execution_count": 443,
   "id": "f7d3a22b-cc53-4680-b0f0-5ba7a4badd8f",
   "metadata": {
    "tags": []
   },
   "outputs": [],
   "source": [
    "url = 'http://openapi.seoul.go.kr:8088/4e465a626d30363134304465454b78/json/culturalSpaceInfo/1/1000/'   #문화공간\n",
    "req = requests.get(url).json()\n",
    "jsons = req['culturalSpaceInfo']['row']\n",
    "culture = pd.DataFrame(jsons)\n",
    "culture = culture[['FAC_NAME','X_COORD','Y_COORD']]\n",
    "culture = culture.rename({'FAC_NAME':'name','X_COORD':'latitude','Y_COORD':'longtitude'},axis = 1)"
   ]
  },
  {
   "cell_type": "code",
   "execution_count": 475,
   "id": "d09f230a-4edd-4385-be42-9f128cc87708",
   "metadata": {
    "tags": []
   },
   "outputs": [],
   "source": [
    "url = 'http://openAPI.seoul.go.kr:8088/4e465a626d30363134304465454b78/json/SearchParkInfoService/1/1000/'  #공원\n",
    "req = requests.get(url).json()\n",
    "jsons = req['SearchParkInfoService']['row']\n",
    "park = pd.DataFrame(jsons)\n",
    "park = park[['P_PARK','LONGITUDE','LATITUDE']]\n",
    "park = park.rename({'P_PARK':'name','LONGITUDE':'longtitude','LATITUDE':'latitude'},axis = 1)"
   ]
  },
  {
   "cell_type": "code",
   "execution_count": 463,
   "id": "821d9ad9-75ae-463e-b258-d5bfaaed51ed",
   "metadata": {
    "tags": []
   },
   "outputs": [],
   "source": [
    "# culture.to_csv('서울 문화공간.csv',index = False)"
   ]
  },
  {
   "cell_type": "code",
   "execution_count": 476,
   "id": "ce321766-a639-41ac-94d4-1e664c9ec121",
   "metadata": {
    "tags": []
   },
   "outputs": [],
   "source": [
    "# park.to_csv('서울 공원.csv',index = False)"
   ]
  },
  {
   "cell_type": "markdown",
   "id": "8eba1f5d-6308-493d-9e05-30ed53f1b8d1",
   "metadata": {},
   "source": [
    "# 문화재 데이터 수집 및 가공\n",
    "- https://www.cha.go.kr/html/HtmlPage.do?pg=/publicinfo/pbinfo3_0202.jsp&mn=NS_04_04_03"
   ]
  },
  {
   "cell_type": "code",
   "execution_count": 263,
   "id": "f49b8470-9b0b-4759-b87f-0a9cc6f2dc9d",
   "metadata": {
    "tags": []
   },
   "outputs": [],
   "source": [
    "import json\n",
    "import xmltodict\n",
    "# !pip3 install xmltodict"
   ]
  },
  {
   "cell_type": "code",
   "execution_count": 387,
   "id": "b81903cc-af0b-455a-b485-2c42c729bb0d",
   "metadata": {
    "tags": []
   },
   "outputs": [],
   "source": [
    "co = ['11','12','13','14','15','16','17','18','21','22','23','24','25','31','79','80']\n",
    "page_index = list(range(1,9))\n",
    "params = {\n",
    "    'ccbaCtcd':'11',\n",
    "    'pageUnit':100}"
   ]
  },
  {
   "cell_type": "code",
   "execution_count": 411,
   "id": "a4f0552c-4b6d-4d9d-8dec-0c1bef349fe8",
   "metadata": {
    "tags": []
   },
   "outputs": [],
   "source": [
    "temp = []\n",
    "for i in co:\n",
    "    for page in page_index:\n",
    "        url = f'http://www.cha.go.kr/cha/SearchKindOpenapiList.do?ccbaKdcd={i}&pageIndex={page}'\n",
    "        req = requests.get(url,params=params)        \n",
    "        s = xmltodict.parse(req.text)['result']\n",
    "        if len(s.keys()) == 4:\n",
    "            if str(type(s['item'])) == \"<class 'dict'>\":\n",
    "                s['item'] = [s['item']]\n",
    "            temp.append(s['item'])\n",
    "        else:\n",
    "            break;"
   ]
  },
  {
   "cell_type": "code",
   "execution_count": 471,
   "id": "6285377f-6201-43dd-b60e-6f83f3ae5477",
   "metadata": {
    "tags": []
   },
   "outputs": [],
   "source": [
    "heritage = sum(temp,[])\n",
    "heritage = pd.DataFrame(heritage)\n",
    "heritage = heritage[['ccmaName','ccbaMnm1','longitude','latitude']]\n",
    "heritage = heritage.rename({'longitude':'longtitude'},axis = 1)\n",
    "nolat = heritage[heritage['latitude']=='0'].index\n",
    "heritage = heritage.drop(nolat,axis = 0).reset_index(drop = True)"
   ]
  },
  {
   "cell_type": "code",
   "execution_count": null,
   "id": "730e4172-dfb6-452e-beaa-8b5142e0a367",
   "metadata": {},
   "outputs": [],
   "source": [
    "# heritage.to_csv('서울 문화재.csv',index = False)"
   ]
  },
  {
   "cell_type": "code",
   "execution_count": null,
   "id": "16b3d85b-e7ac-4e43-8fec-9e063e8d7386",
   "metadata": {},
   "outputs": [],
   "source": []
  },
  {
   "cell_type": "code",
   "execution_count": null,
   "id": "a3222e15-e731-438c-9b8e-7ac55c378f41",
   "metadata": {},
   "outputs": [],
   "source": []
  },
  {
   "cell_type": "code",
   "execution_count": null,
   "id": "ee171fe6-5a10-46ca-ac5d-38807c7bfa45",
   "metadata": {},
   "outputs": [],
   "source": []
  },
  {
   "cell_type": "code",
   "execution_count": null,
   "id": "b7ae3506-d06c-424e-b24a-1ececfddde8c",
   "metadata": {},
   "outputs": [],
   "source": []
  },
  {
   "cell_type": "code",
   "execution_count": null,
   "id": "7e28f67d-ac05-4975-a82e-ffe6c6bd2e63",
   "metadata": {},
   "outputs": [],
   "source": []
  },
  {
   "cell_type": "code",
   "execution_count": null,
   "id": "083eb8dc-5ad1-4c73-a28b-47571b952a35",
   "metadata": {},
   "outputs": [],
   "source": []
  },
  {
   "cell_type": "code",
   "execution_count": null,
   "id": "b330f0b2-0937-4b24-8afe-0784722ca09b",
   "metadata": {},
   "outputs": [],
   "source": []
  },
  {
   "cell_type": "code",
   "execution_count": null,
   "id": "6891b3aa-59f6-46f0-9fbf-a1b1a1f54ea9",
   "metadata": {},
   "outputs": [],
   "source": []
  }
 ],
 "metadata": {
  "kernelspec": {
   "display_name": "Python 3 (ipykernel)",
   "language": "python",
   "name": "python3"
  },
  "language_info": {
   "codemirror_mode": {
    "name": "ipython",
    "version": 3
   },
   "file_extension": ".py",
   "mimetype": "text/x-python",
   "name": "python",
   "nbconvert_exporter": "python",
   "pygments_lexer": "ipython3",
   "version": "3.11.2"
  }
 },
 "nbformat": 4,
 "nbformat_minor": 5
}
