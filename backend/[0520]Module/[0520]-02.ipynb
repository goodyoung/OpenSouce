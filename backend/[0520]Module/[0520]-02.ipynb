{
 "cells": [
  {
   "cell_type": "markdown",
   "id": "79e5bee6-119f-471a-9b88-e09d6c2e2120",
   "metadata": {},
   "source": [
    "# 서울 공원,문화공간,문화재 합치기"
   ]
  },
  {
   "cell_type": "code",
   "execution_count": null,
   "id": "f7df973f-8993-4e5f-bdbf-c7bb881e6ce4",
   "metadata": {
    "tags": []
   },
   "outputs": [],
   "source": [
    "import pandas as pd\n",
    "import requests\n",
    "from haversine import haversine\n",
    "import json"
   ]
  },
  {
   "cell_type": "code",
   "execution_count": null,
   "id": "a1111fb4-9508-4fdd-a9e2-d958f73f7795",
   "metadata": {
    "tags": []
   },
   "outputs": [],
   "source": [
    "class Distance:\n",
    "    def __init__(self,lat,long):\n",
    "        self.my_location = (lat,long)\n",
    "        self.dic = {}\n",
    "        self.total()\n",
    "        \n",
    "    def distance_calc(self,df, my_location):\n",
    "        location = (df['latitude'], df['longtitude'])\n",
    "        distance = haversine(my_location, location, unit = 'm')\n",
    "        return distance\n",
    "\n",
    "    def location_data(self,df,location):\n",
    "        df[['latitude','longtitude']] = df[['latitude','longtitude']].astype(float)\n",
    "        df['distance'] = df[['latitude','longtitude']].apply(self.distance_calc, axis =1, my_location = self.my_location)\n",
    "        distance_index = list(df['distance'].sort_values().index)[:5]\n",
    "        location_json = json.loads(df.loc[distance_index].to_json(orient = 'records',force_ascii=False))\n",
    "        return location_json   \n",
    "    \n",
    "    def total(self):\n",
    "        for name in ['공원','문화공간','문화재']:  #더 추가할 수 있겠지?\n",
    "            filename = f'서울 {name}.csv'\n",
    "            df = pd.read_csv(filename)\n",
    "            self.dic[name] = self.location_data(df,self.my_location)\n",
    "            "
   ]
  },
  {
   "cell_type": "code",
   "execution_count": null,
   "id": "53b6057f-eaf3-4f19-afbc-c39ea3ab9d9c",
   "metadata": {
    "tags": []
   },
   "outputs": [],
   "source": [
    "s = Distance(lat,long)"
   ]
  },
  {
   "cell_type": "code",
   "execution_count": null,
   "id": "d82ed1bc-585b-46d3-b85f-fa9058fa7c04",
   "metadata": {
    "tags": []
   },
   "outputs": [],
   "source": [
    "s.dic"
   ]
  },
  {
   "cell_type": "markdown",
   "id": "78449747-6f3e-470b-b72c-ddf67ddfd4ed",
   "metadata": {},
   "source": [
    "# 서울 문화 공간, 등등 모듈화"
   ]
  },
  {
   "cell_type": "code",
   "execution_count": 1,
   "id": "b67013cf-329d-4d3f-b58d-e9806aa6141d",
   "metadata": {
    "tags": []
   },
   "outputs": [],
   "source": [
    "import get_distance"
   ]
  },
  {
   "cell_type": "code",
   "execution_count": 8,
   "id": "26f02075-d33c-4f06-a956-4ec02c1ff546",
   "metadata": {
    "tags": []
   },
   "outputs": [],
   "source": [
    "lat = 37.4264494\n",
    "long = 127.0198465"
   ]
  },
  {
   "cell_type": "code",
   "execution_count": 9,
   "id": "d0591cb6-8307-4ae8-b479-c460a4bd18fe",
   "metadata": {
    "tags": []
   },
   "outputs": [],
   "source": [
    "s = get_distance.Distance(lat,long)"
   ]
  },
  {
   "cell_type": "code",
   "execution_count": 10,
   "id": "d814e191-0509-4e0c-82af-837b6a6dadbd",
   "metadata": {
    "tags": []
   },
   "outputs": [
    {
     "data": {
      "text/plain": [
       "{'공원': [{'name': '서울대공원',\n",
       "   'longtitude': 127.0198465,\n",
       "   'latitude': 37.4264494,\n",
       "   'distance': 0.0},\n",
       "  {'name': '청계산도시자연공원',\n",
       "   'longtitude': 127.0424726,\n",
       "   'latitude': 37.4224347,\n",
       "   'distance': 2047.2879203547},\n",
       "  {'name': '문화예술공원',\n",
       "   'longtitude': 127.030517,\n",
       "   'latitude': 37.467654,\n",
       "   'distance': 4677.5806233246},\n",
       "  {'name': '인능산도시자연공원',\n",
       "   'longtitude': 127.0666632,\n",
       "   'latitude': 37.4482109,\n",
       "   'distance': 4789.6817809749},\n",
       "  {'name': '우면산도시자연공원',\n",
       "   'longtitude': 127.0091324,\n",
       "   'latitude': 37.470484,\n",
       "   'distance': 4986.9435630228}],\n",
       " '문화공간': [{'name': '서울대공원',\n",
       "   'latitude': 37.4364305503,\n",
       "   'longtitude': 127.0140983619,\n",
       "   'distance': 1220.4029405785},\n",
       "  {'name': '유리지공예관',\n",
       "   'latitude': 37.4577578419,\n",
       "   'longtitude': 127.0123541918,\n",
       "   'distance': 3543.6268985965},\n",
       "  {'name': '서초구립내곡도서관',\n",
       "   'latitude': 37.4520021701,\n",
       "   'longtitude': 127.0544427012,\n",
       "   'distance': 4171.6808336388},\n",
       "  {'name': '내곡느티나무쉼터',\n",
       "   'latitude': 37.4618248738,\n",
       "   'longtitude': 127.0506971568,\n",
       "   'distance': 4784.45038445},\n",
       "  {'name': '우면산관문사',\n",
       "   'latitude': 37.4737503294,\n",
       "   'longtitude': 127.0222822795,\n",
       "   'distance': 5264.0239737552}],\n",
       " '문화재': [{'ccmaName': '시도유형문화재',\n",
       "   'ccbaMnm1': '원지동 석불입상 및 석탑',\n",
       "   'longtitude': 127.0573441804,\n",
       "   'latitude': 37.4451755139,\n",
       "   'distance': 3911.1374186306},\n",
       "  {'ccmaName': '시도기념물',\n",
       "   'ccbaMnm1': '월산대군 이정 태실',\n",
       "   'longtitude': 127.0228121969,\n",
       "   'latitude': 37.4638061366,\n",
       "   'distance': 4162.1282340256},\n",
       "  {'ccmaName': '시도유형문화재',\n",
       "   'ccbaMnm1': '천지명양수륙재의찬요',\n",
       "   'longtitude': 127.0220069,\n",
       "   'latitude': 37.4735532,\n",
       "   'distance': 5241.181690897},\n",
       "  {'ccmaName': '시도유형문화재',\n",
       "   'ccbaMnm1': '법계성범수륙승회수재의궤 권1',\n",
       "   'longtitude': 127.0220069,\n",
       "   'latitude': 37.4735532,\n",
       "   'distance': 5241.181690897},\n",
       "  {'ccmaName': '시도유형문화재',\n",
       "   'ccbaMnm1': '묘법연화경 권3',\n",
       "   'longtitude': 127.0220069,\n",
       "   'latitude': 37.4735532,\n",
       "   'distance': 5241.181690897}]}"
      ]
     },
     "execution_count": 10,
     "metadata": {},
     "output_type": "execute_result"
    }
   ],
   "source": [
    "s.dic"
   ]
  },
  {
   "cell_type": "code",
   "execution_count": null,
   "id": "bc18244e-a401-4945-92aa-725d68c8d19b",
   "metadata": {},
   "outputs": [],
   "source": []
  }
 ],
 "metadata": {
  "kernelspec": {
   "display_name": "Python 3 (ipykernel)",
   "language": "python",
   "name": "python3"
  },
  "language_info": {
   "codemirror_mode": {
    "name": "ipython",
    "version": 3
   },
   "file_extension": ".py",
   "mimetype": "text/x-python",
   "name": "python",
   "nbconvert_exporter": "python",
   "pygments_lexer": "ipython3",
   "version": "3.11.2"
  }
 },
 "nbformat": 4,
 "nbformat_minor": 5
}
